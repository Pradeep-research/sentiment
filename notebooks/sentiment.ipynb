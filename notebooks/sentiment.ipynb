{
 "cells": [
  {
   "cell_type": "code",
   "execution_count": 14,
   "id": "c053eb01",
   "metadata": {},
   "outputs": [],
   "source": [
    "import numpy as np\n",
    "import pandas as pd\n",
    "import os\n",
    "from sklearn.model_selection import train_test_split\n",
    "import yaml\n",
    "import logging\n",
    "\n",
    "# logging configuration\n",
    "logger = logging.getLogger('data_ingestion')\n",
    "logger.setLevel('DEBUG')\n",
    "\n",
    "console_handler = logging.StreamHandler()\n",
    "console_handler.setLevel('DEBUG')\n",
    "\n",
    "file_handler = logging.FileHandler('errors.log')\n",
    "file_handler.setLevel('ERROR')\n",
    "\n",
    "formatter = logging.Formatter('%(asctime)s - %(name)s - %(levelname)s - %(message)s')\n",
    "console_handler.setFormatter(formatter)\n",
    "file_handler.setFormatter(formatter)\n",
    "\n",
    "logger.addHandler(console_handler)\n",
    "logger.addHandler(file_handler)\n",
    "\n",
    "def load_params(params_path: str) -> dict:\n",
    "    \"\"\"Load parameters from a YAML file.\"\"\"\n",
    "    try:\n",
    "        with open(params_path, 'r') as file:\n",
    "            params = yaml.safe_load(file)\n",
    "        logger.debug('Parameters retrieved from %s', params_path)\n",
    "        return params\n",
    "    except FileNotFoundError:\n",
    "        logger.error('File not found: %s', params_path)\n",
    "        raise\n",
    "    except yaml.YAMLError as e:\n",
    "        logger.error('YAML error: %s', e)\n",
    "        raise\n",
    "    except Exception as e:\n",
    "        logger.error('Unexpected error: %s', e)\n",
    "        raise\n",
    "\n",
    "def load_data(data_url: str) -> pd.DataFrame:\n",
    "    \"\"\"Load data from a CSV file.\"\"\"\n",
    "    try:\n",
    "        print(\"load data not\")\n",
    "        print(data_url)\n",
    "        df = pd.read_csv(data_url)\n",
    "        print(df.shape)\n",
    "        logger.debug('Data loaded from %s', data_url)\n",
    "        return df\n",
    "    except pd.errors.ParserError as e:\n",
    "        logger.error('Failed to parse the CSV file: %s', e)\n",
    "        raise\n",
    "    except Exception as e:\n",
    "        logger.error('Unexpected error occurred while loading the data: %s', e)\n",
    "        raise\n",
    "\n",
    "def preprocess_data(df: pd.DataFrame) -> pd.DataFrame:\n",
    "    \"\"\"Preprocess the data.\"\"\"\n",
    "    try:\n",
    "        df.drop(columns=['tweet_id'], inplace=True)\n",
    "        final_df = df[df['sentiment'].isin(['happiness', 'sadness'])]\n",
    "        final_df['sentiment'].replace({'happiness': 1, 'sadness': 0}, inplace=True)\n",
    "        logger.debug('Data preprocessing completed')\n",
    "        return final_df\n",
    "    except KeyError as e:\n",
    "        logger.error('Missing column in the dataframe: %s', e)\n",
    "        raise\n",
    "    except Exception as e:\n",
    "        logger.error('Unexpected error during preprocessing: %s', e)\n",
    "        raise\n",
    "\n",
    "def save_data(train_data: pd.DataFrame, test_data: pd.DataFrame, data_path: str) -> None:\n",
    "    \"\"\"Save the train and test datasets.\"\"\"\n",
    "    try:\n",
    "        raw_data_path = os.path.join(data_path, 'raw')\n",
    "        os.makedirs(raw_data_path, exist_ok=True)\n",
    "        train_data.to_csv(os.path.join(raw_data_path, \"train.csv\"), index=False)\n",
    "        test_data.to_csv(os.path.join(raw_data_path, \"test.csv\"), index=False)\n",
    "        logger.debug('Train and test data saved to %s', raw_data_path)\n",
    "    except Exception as e:\n",
    "        logger.error('Unexpected error occurred while saving the data: %s', e)\n",
    "        raise\n",
    "\n",
    "def main():\n",
    "    try:\n",
    "        params = load_params(params_path='../params.yaml')\n",
    "        test_size = params['data_ingestion']['test_size']\n",
    "        print(test_size)\n",
    "        df = load_data(data_url='https://raw.githubusercontent.com/campusx-official/jupyter-masterclass/main/tweet_emotions.csv')\n",
    "        final_df = preprocess_data(df)\n",
    "        train_data, test_data = train_test_split(final_df, test_size=test_size, random_state=42)\n",
    "        save_data(train_data, test_data, data_path='/data/raw')\n",
    "    except Exception as e:\n",
    "        logger.error('Failed to complete the data ingestion process: %s', e)\n",
    "        print(f\"Error: {e}\")"
   ]
  },
  {
   "cell_type": "code",
   "execution_count": 15,
   "id": "1185f505",
   "metadata": {},
   "outputs": [
    {
     "name": "stderr",
     "output_type": "stream",
     "text": [
      "2024-07-03 16:48:42,363 - data_ingestion - DEBUG - Parameters retrieved from ../params.yaml\n",
      "2024-07-03 16:48:42,363 - data_ingestion - DEBUG - Parameters retrieved from ../params.yaml\n",
      "2024-07-03 16:48:42,363 - data_ingestion - DEBUG - Parameters retrieved from ../params.yaml\n",
      "2024-07-03 16:48:42,363 - data_ingestion - DEBUG - Parameters retrieved from ../params.yaml\n",
      "2024-07-03 16:48:42,363 - data_ingestion - ERROR - Failed to complete the data ingestion process: 'data_ingestion'\n",
      "2024-07-03 16:48:42,363 - data_ingestion - ERROR - Failed to complete the data ingestion process: 'data_ingestion'\n",
      "2024-07-03 16:48:42,363 - data_ingestion - ERROR - Failed to complete the data ingestion process: 'data_ingestion'\n",
      "2024-07-03 16:48:42,363 - data_ingestion - ERROR - Failed to complete the data ingestion process: 'data_ingestion'\n"
     ]
    },
    {
     "name": "stdout",
     "output_type": "stream",
     "text": [
      "Error: 'data_ingestion'\n"
     ]
    }
   ],
   "source": [
    "if __name__ == '__main__':\n",
    "    main()"
   ]
  },
  {
   "cell_type": "code",
   "execution_count": 5,
   "id": "41ff3d1f",
   "metadata": {},
   "outputs": [
    {
     "name": "stdout",
     "output_type": "stream",
     "text": [
      "load data not\n",
      "https://raw.githubusercontent.com/campusx-official/jupyter-masterclass/main/tweet_emotions.csv\n",
      "(40000, 3)\n"
     ]
    }
   ],
   "source": [
    "df = load_data(data_url='https://raw.githubusercontent.com/campusx-official/jupyter-masterclass/main/tweet_emotions.csv')"
   ]
  },
  {
   "cell_type": "code",
   "execution_count": 6,
   "id": "7917e4c7",
   "metadata": {},
   "outputs": [
    {
     "data": {
      "text/plain": [
       "(40000, 3)"
      ]
     },
     "execution_count": 6,
     "metadata": {},
     "output_type": "execute_result"
    }
   ],
   "source": [
    "df.shape"
   ]
  },
  {
   "cell_type": "code",
   "execution_count": 7,
   "id": "5b5657e6",
   "metadata": {},
   "outputs": [
    {
     "data": {
      "text/html": [
       "<div>\n",
       "<style scoped>\n",
       "    .dataframe tbody tr th:only-of-type {\n",
       "        vertical-align: middle;\n",
       "    }\n",
       "\n",
       "    .dataframe tbody tr th {\n",
       "        vertical-align: top;\n",
       "    }\n",
       "\n",
       "    .dataframe thead th {\n",
       "        text-align: right;\n",
       "    }\n",
       "</style>\n",
       "<table border=\"1\" class=\"dataframe\">\n",
       "  <thead>\n",
       "    <tr style=\"text-align: right;\">\n",
       "      <th></th>\n",
       "      <th>tweet_id</th>\n",
       "      <th>sentiment</th>\n",
       "      <th>content</th>\n",
       "    </tr>\n",
       "  </thead>\n",
       "  <tbody>\n",
       "    <tr>\n",
       "      <th>0</th>\n",
       "      <td>1956967341</td>\n",
       "      <td>empty</td>\n",
       "      <td>@tiffanylue i know  i was listenin to bad habi...</td>\n",
       "    </tr>\n",
       "    <tr>\n",
       "      <th>1</th>\n",
       "      <td>1956967666</td>\n",
       "      <td>sadness</td>\n",
       "      <td>Layin n bed with a headache  ughhhh...waitin o...</td>\n",
       "    </tr>\n",
       "    <tr>\n",
       "      <th>2</th>\n",
       "      <td>1956967696</td>\n",
       "      <td>sadness</td>\n",
       "      <td>Funeral ceremony...gloomy friday...</td>\n",
       "    </tr>\n",
       "    <tr>\n",
       "      <th>3</th>\n",
       "      <td>1956967789</td>\n",
       "      <td>enthusiasm</td>\n",
       "      <td>wants to hang out with friends SOON!</td>\n",
       "    </tr>\n",
       "    <tr>\n",
       "      <th>4</th>\n",
       "      <td>1956968416</td>\n",
       "      <td>neutral</td>\n",
       "      <td>@dannycastillo We want to trade with someone w...</td>\n",
       "    </tr>\n",
       "  </tbody>\n",
       "</table>\n",
       "</div>"
      ],
      "text/plain": [
       "     tweet_id   sentiment                                            content\n",
       "0  1956967341       empty  @tiffanylue i know  i was listenin to bad habi...\n",
       "1  1956967666     sadness  Layin n bed with a headache  ughhhh...waitin o...\n",
       "2  1956967696     sadness                Funeral ceremony...gloomy friday...\n",
       "3  1956967789  enthusiasm               wants to hang out with friends SOON!\n",
       "4  1956968416     neutral  @dannycastillo We want to trade with someone w..."
      ]
     },
     "execution_count": 7,
     "metadata": {},
     "output_type": "execute_result"
    }
   ],
   "source": [
    "df.head()"
   ]
  },
  {
   "cell_type": "code",
   "execution_count": 18,
   "id": "a2d12e76",
   "metadata": {},
   "outputs": [
    {
     "data": {
      "text/plain": [
       "'C:\\\\Users\\\\comp\\\\Desktop\\\\Python\\\\mlops\\\\sentiment\\\\notebooks'"
      ]
     },
     "execution_count": 18,
     "metadata": {},
     "output_type": "execute_result"
    }
   ],
   "source": [
    "os.getcwd()"
   ]
  },
  {
   "cell_type": "code",
   "execution_count": 19,
   "id": "c9fd05b2",
   "metadata": {},
   "outputs": [
    {
     "name": "stdout",
     "output_type": "stream",
     "text": [
      "C:\\Users\\comp\\Desktop\\Python\\mlops\\sentiment\n"
     ]
    }
   ],
   "source": [
    "from pathlib import Path\n",
    "path = Path(os.getcwd())\n",
    "print(path.parent.absolute())"
   ]
  },
  {
   "cell_type": "code",
   "execution_count": 22,
   "id": "8b656e87",
   "metadata": {},
   "outputs": [
    {
     "data": {
      "text/plain": [
       "WindowsPath('C:/Users/comp/Desktop/Python/mlops/sentiment')"
      ]
     },
     "execution_count": 22,
     "metadata": {},
     "output_type": "execute_result"
    }
   ],
   "source": [
    "path.parent"
   ]
  },
  {
   "cell_type": "code",
   "execution_count": null,
   "id": "8dbb1db8",
   "metadata": {},
   "outputs": [],
   "source": []
  }
 ],
 "metadata": {
  "kernelspec": {
   "display_name": "Python 3 (ipykernel)",
   "language": "python",
   "name": "python3"
  },
  "language_info": {
   "codemirror_mode": {
    "name": "ipython",
    "version": 3
   },
   "file_extension": ".py",
   "mimetype": "text/x-python",
   "name": "python",
   "nbconvert_exporter": "python",
   "pygments_lexer": "ipython3",
   "version": "3.10.9"
  }
 },
 "nbformat": 4,
 "nbformat_minor": 5
}
